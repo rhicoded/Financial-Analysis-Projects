{
 "cells": [
  {
   "cell_type": "markdown",
   "id": "85e892b1-edbd-4ee7-909c-8f457a3c8d2b",
   "metadata": {},
   "source": [
    "# Historical Stock Market Data Analysis"
   ]
  },
  {
   "cell_type": "markdown",
   "id": "fd357c8b-916d-4362-8959-1c8a287bf9d9",
   "metadata": {},
   "source": [
    "## About the dataset"
   ]
  },
  {
   "cell_type": "markdown",
   "id": "4002702c-eb3f-493a-a323-99080c1e305c",
   "metadata": {},
   "source": [
    "A comprehensive dataset of historical daily stock prices for all tickers actively traded on NASDAQ as of July 2020, sourced through the yfinance Python package and compiled from Yahoo Finance data. Each ticker's data is organised in CSV files that cover essential daily trading metrics, including the opening, high, low, closing, and adjusted closing prices, as well as trading volumes.\n",
    "\n",
    "Each ticker is saved under its symbol name in either an \"ETFs\" or \"Stocks\" folder, distinguishing between asset types. Additionally, a metadata file, symbols_valid_meta.csv, enhances the dataset with each ticker's full name and further descriptive details, providing a solid foundation for in-depth analysis and financial insights."
   ]
  },
  {
   "cell_type": "markdown",
   "id": "224e0a11-bfb3-4cf7-9b1d-1decbfdee0a3",
   "metadata": {},
   "source": [
    "## Data Objectives"
   ]
  },
  {
   "cell_type": "markdown",
   "id": "c23b0154-45d2-4cfe-ad89-ac503372dba7",
   "metadata": {},
   "source": [
    "In this project, we will focus on the data of the Google Stock.\n",
    "\n",
    "5 Key questions: \n",
    "1. What is the average daily trading volume for the Google stock?\n",
    "2. What is the overall trend of Google's closing price over time?\n",
    "3. How volatile has the stock been over the last recorded year?\n",
    "4. Which stocks had the highest and lowest daily returns over the dataset’s time period?\n",
    "5. Did the stock experience a “crash” (a drop of 10% or more) in a single day? If so, list the dates this occurred."
   ]
  },
  {
   "cell_type": "markdown",
   "id": "a8ad13c0-733b-4c61-ac55-9184b849ca50",
   "metadata": {},
   "source": [
    "## Data Collection"
   ]
  },
  {
   "cell_type": "code",
   "execution_count": 7,
   "id": "ce5be7f7-9c91-47b8-a8fe-1ab9eb20982c",
   "metadata": {},
   "outputs": [
    {
     "name": "stdout",
     "output_type": "stream",
     "text": [
      "Warning: Looks like you're using an outdated `kagglehub` version, please consider updating (latest version: 0.3.4)\n"
     ]
    }
   ],
   "source": [
    "# import the data and libraries\n",
    "import pandas as pd\n",
    "import numpy as np\n",
    "import matplotlib.pyplot as plt\n",
    "import os\n",
    "import kagglehub\n",
    "from datetime import datetime\n",
    "\n",
    "# Download latest version of the dataset and filepath\n",
    "path = kagglehub.dataset_download(\"jacksoncrow/stock-market-dataset\")"
   ]
  },
  {
   "cell_type": "code",
   "execution_count": 8,
   "id": "5b2c9883-d64e-4f29-a44b-8eaee2e94f10",
   "metadata": {},
   "outputs": [
    {
     "data": {
      "text/html": [
       "<div>\n",
       "<style scoped>\n",
       "    .dataframe tbody tr th:only-of-type {\n",
       "        vertical-align: middle;\n",
       "    }\n",
       "\n",
       "    .dataframe tbody tr th {\n",
       "        vertical-align: top;\n",
       "    }\n",
       "\n",
       "    .dataframe thead th {\n",
       "        text-align: right;\n",
       "    }\n",
       "</style>\n",
       "<table border=\"1\" class=\"dataframe\">\n",
       "  <thead>\n",
       "    <tr style=\"text-align: right;\">\n",
       "      <th></th>\n",
       "      <th>Date</th>\n",
       "      <th>Open</th>\n",
       "      <th>High</th>\n",
       "      <th>Low</th>\n",
       "      <th>Close</th>\n",
       "      <th>Adj Close</th>\n",
       "      <th>Volume</th>\n",
       "    </tr>\n",
       "  </thead>\n",
       "  <tbody>\n",
       "    <tr>\n",
       "      <th>0</th>\n",
       "      <td>2004-08-19</td>\n",
       "      <td>49.813286</td>\n",
       "      <td>51.835709</td>\n",
       "      <td>47.800831</td>\n",
       "      <td>49.982655</td>\n",
       "      <td>49.982655</td>\n",
       "      <td>44871300</td>\n",
       "    </tr>\n",
       "    <tr>\n",
       "      <th>1</th>\n",
       "      <td>2004-08-20</td>\n",
       "      <td>50.316402</td>\n",
       "      <td>54.336334</td>\n",
       "      <td>50.062355</td>\n",
       "      <td>53.952770</td>\n",
       "      <td>53.952770</td>\n",
       "      <td>22942800</td>\n",
       "    </tr>\n",
       "    <tr>\n",
       "      <th>2</th>\n",
       "      <td>2004-08-23</td>\n",
       "      <td>55.168217</td>\n",
       "      <td>56.528118</td>\n",
       "      <td>54.321388</td>\n",
       "      <td>54.495735</td>\n",
       "      <td>54.495735</td>\n",
       "      <td>18342800</td>\n",
       "    </tr>\n",
       "    <tr>\n",
       "      <th>3</th>\n",
       "      <td>2004-08-24</td>\n",
       "      <td>55.412300</td>\n",
       "      <td>55.591629</td>\n",
       "      <td>51.591621</td>\n",
       "      <td>52.239193</td>\n",
       "      <td>52.239193</td>\n",
       "      <td>15319700</td>\n",
       "    </tr>\n",
       "    <tr>\n",
       "      <th>4</th>\n",
       "      <td>2004-08-25</td>\n",
       "      <td>52.284027</td>\n",
       "      <td>53.798351</td>\n",
       "      <td>51.746044</td>\n",
       "      <td>52.802086</td>\n",
       "      <td>52.802086</td>\n",
       "      <td>9232100</td>\n",
       "    </tr>\n",
       "  </tbody>\n",
       "</table>\n",
       "</div>"
      ],
      "text/plain": [
       "         Date       Open       High        Low      Close  Adj Close    Volume\n",
       "0  2004-08-19  49.813286  51.835709  47.800831  49.982655  49.982655  44871300\n",
       "1  2004-08-20  50.316402  54.336334  50.062355  53.952770  53.952770  22942800\n",
       "2  2004-08-23  55.168217  56.528118  54.321388  54.495735  54.495735  18342800\n",
       "3  2004-08-24  55.412300  55.591629  51.591621  52.239193  52.239193  15319700\n",
       "4  2004-08-25  52.284027  53.798351  51.746044  52.802086  52.802086   9232100"
      ]
     },
     "execution_count": 8,
     "metadata": {},
     "output_type": "execute_result"
    }
   ],
   "source": [
    "# Load Dataset\n",
    "stocks_full_path = os.path.join(path, 'stocks', 'GOOG.csv')\n",
    "df = pd.read_csv(stocks_full_path)\n",
    "# Check if dataframe loads\n",
    "df.head()"
   ]
  },
  {
   "cell_type": "markdown",
   "id": "ee5d9b31-045f-440d-8cfb-af0d232df521",
   "metadata": {},
   "source": [
    "## Exploratory Data Analysis"
   ]
  },
  {
   "cell_type": "markdown",
   "id": "c09b3b81-de41-4f1c-81f3-60162715f523",
   "metadata": {},
   "source": [
    "### DataFrame Structure and Types"
   ]
  },
  {
   "cell_type": "code",
   "execution_count": 11,
   "id": "78c5693e-8e9f-44dd-8f78-be13d4258347",
   "metadata": {},
   "outputs": [
    {
     "name": "stdout",
     "output_type": "stream",
     "text": [
      "<class 'pandas.core.frame.DataFrame'>\n",
      "RangeIndex: 3932 entries, 0 to 3931\n",
      "Data columns (total 7 columns):\n",
      " #   Column     Non-Null Count  Dtype  \n",
      "---  ------     --------------  -----  \n",
      " 0   Date       3932 non-null   object \n",
      " 1   Open       3932 non-null   float64\n",
      " 2   High       3932 non-null   float64\n",
      " 3   Low        3932 non-null   float64\n",
      " 4   Close      3932 non-null   float64\n",
      " 5   Adj Close  3932 non-null   float64\n",
      " 6   Volume     3932 non-null   int64  \n",
      "dtypes: float64(5), int64(1), object(1)\n",
      "memory usage: 215.2+ KB\n"
     ]
    },
    {
     "data": {
      "text/html": [
       "<div>\n",
       "<style scoped>\n",
       "    .dataframe tbody tr th:only-of-type {\n",
       "        vertical-align: middle;\n",
       "    }\n",
       "\n",
       "    .dataframe tbody tr th {\n",
       "        vertical-align: top;\n",
       "    }\n",
       "\n",
       "    .dataframe thead th {\n",
       "        text-align: right;\n",
       "    }\n",
       "</style>\n",
       "<table border=\"1\" class=\"dataframe\">\n",
       "  <thead>\n",
       "    <tr style=\"text-align: right;\">\n",
       "      <th></th>\n",
       "      <th>Open</th>\n",
       "      <th>High</th>\n",
       "      <th>Low</th>\n",
       "      <th>Close</th>\n",
       "      <th>Adj Close</th>\n",
       "      <th>Volume</th>\n",
       "    </tr>\n",
       "  </thead>\n",
       "  <tbody>\n",
       "    <tr>\n",
       "      <th>count</th>\n",
       "      <td>3932.000000</td>\n",
       "      <td>3932.000000</td>\n",
       "      <td>3932.000000</td>\n",
       "      <td>3932.000000</td>\n",
       "      <td>3932.000000</td>\n",
       "      <td>3.932000e+03</td>\n",
       "    </tr>\n",
       "    <tr>\n",
       "      <th>mean</th>\n",
       "      <td>503.492910</td>\n",
       "      <td>508.124859</td>\n",
       "      <td>498.663314</td>\n",
       "      <td>503.527215</td>\n",
       "      <td>503.527215</td>\n",
       "      <td>7.012622e+06</td>\n",
       "    </tr>\n",
       "    <tr>\n",
       "      <th>std</th>\n",
       "      <td>353.268069</td>\n",
       "      <td>356.317978</td>\n",
       "      <td>350.437807</td>\n",
       "      <td>353.588886</td>\n",
       "      <td>353.588886</td>\n",
       "      <td>8.037743e+06</td>\n",
       "    </tr>\n",
       "    <tr>\n",
       "      <th>min</th>\n",
       "      <td>49.409801</td>\n",
       "      <td>50.680038</td>\n",
       "      <td>47.800831</td>\n",
       "      <td>49.818268</td>\n",
       "      <td>49.818268</td>\n",
       "      <td>7.900000e+03</td>\n",
       "    </tr>\n",
       "    <tr>\n",
       "      <th>25%</th>\n",
       "      <td>238.583237</td>\n",
       "      <td>240.514744</td>\n",
       "      <td>235.593189</td>\n",
       "      <td>237.568283</td>\n",
       "      <td>237.568283</td>\n",
       "      <td>1.756925e+06</td>\n",
       "    </tr>\n",
       "    <tr>\n",
       "      <th>50%</th>\n",
       "      <td>326.080276</td>\n",
       "      <td>330.324371</td>\n",
       "      <td>322.907166</td>\n",
       "      <td>326.172424</td>\n",
       "      <td>326.172424</td>\n",
       "      <td>4.305100e+06</td>\n",
       "    </tr>\n",
       "    <tr>\n",
       "      <th>75%</th>\n",
       "      <td>737.595016</td>\n",
       "      <td>742.867493</td>\n",
       "      <td>731.997513</td>\n",
       "      <td>738.472488</td>\n",
       "      <td>738.472488</td>\n",
       "      <td>8.956550e+06</td>\n",
       "    </tr>\n",
       "    <tr>\n",
       "      <th>max</th>\n",
       "      <td>1525.069946</td>\n",
       "      <td>1532.105957</td>\n",
       "      <td>1521.400024</td>\n",
       "      <td>1526.689941</td>\n",
       "      <td>1526.689941</td>\n",
       "      <td>8.254150e+07</td>\n",
       "    </tr>\n",
       "  </tbody>\n",
       "</table>\n",
       "</div>"
      ],
      "text/plain": [
       "              Open         High          Low        Close    Adj Close  \\\n",
       "count  3932.000000  3932.000000  3932.000000  3932.000000  3932.000000   \n",
       "mean    503.492910   508.124859   498.663314   503.527215   503.527215   \n",
       "std     353.268069   356.317978   350.437807   353.588886   353.588886   \n",
       "min      49.409801    50.680038    47.800831    49.818268    49.818268   \n",
       "25%     238.583237   240.514744   235.593189   237.568283   237.568283   \n",
       "50%     326.080276   330.324371   322.907166   326.172424   326.172424   \n",
       "75%     737.595016   742.867493   731.997513   738.472488   738.472488   \n",
       "max    1525.069946  1532.105957  1521.400024  1526.689941  1526.689941   \n",
       "\n",
       "             Volume  \n",
       "count  3.932000e+03  \n",
       "mean   7.012622e+06  \n",
       "std    8.037743e+06  \n",
       "min    7.900000e+03  \n",
       "25%    1.756925e+06  \n",
       "50%    4.305100e+06  \n",
       "75%    8.956550e+06  \n",
       "max    8.254150e+07  "
      ]
     },
     "execution_count": 11,
     "metadata": {},
     "output_type": "execute_result"
    }
   ],
   "source": [
    "df.info()\n",
    "df.describe()"
   ]
  },
  {
   "cell_type": "code",
   "execution_count": 12,
   "id": "d1cf3645-a2ee-4dc6-bb15-b554b038208c",
   "metadata": {},
   "outputs": [
    {
     "name": "stdout",
     "output_type": "stream",
     "text": [
      "82541500\n"
     ]
    }
   ],
   "source": [
    "max_vol = df['Volume'].max()\n",
    "print(max_vol)"
   ]
  },
  {
   "cell_type": "code",
   "execution_count": 13,
   "id": "8aa41b55-3d3f-4de3-9fcf-db24fba98636",
   "metadata": {},
   "outputs": [
    {
     "name": "stdout",
     "output_type": "stream",
     "text": [
      "Index([358], dtype='int64')\n",
      "Date         2006-01-20\n",
      "Open         218.530899\n",
      "High         219.193405\n",
      "Low          196.632965\n",
      "Close        198.984161\n",
      "Adj Close    198.984161\n",
      "Volume         82541500\n",
      "Name: 358, dtype: object\n"
     ]
    }
   ],
   "source": [
    "index = df[df['Volume'] == max_vol].index\n",
    "print(index)\n",
    "print(df.iloc[358])"
   ]
  },
  {
   "cell_type": "code",
   "execution_count": 14,
   "id": "07a772c1-8ba3-4e6d-8157-5cb6bd1568af",
   "metadata": {},
   "outputs": [
    {
     "data": {
      "image/png": "[encoded data removed]",
      "text/plain": [
       "<Figure size 640x480 with 1 Axes>"
      ]
     },
     "metadata": {},
     "output_type": "display_data"
    }
   ],
   "source": [
    "x = df['Close']\n",
    "plt.hist(x, bins=50)\n",
    "plt.xlabel('Close Price')\n",
    "plt.ylabel('Frequency')\n",
    "plt.title(\"Google's Most Common Closing Price\")\n",
    "plt.show()"
   ]
  },
  {
   "cell_type": "markdown",
   "id": "10bcc61c-f3ba-4621-9e36-0445d17ede7e",
   "metadata": {},
   "source": [
    "## 1. Average daily trading volume for the Google stock"
   ]
  },
  {
   "cell_type": "code",
   "execution_count": 16,
   "id": "965fe942-0894-4f2f-9bf9-903bbfab8fee",
   "metadata": {},
   "outputs": [
    {
     "name": "stdout",
     "output_type": "stream",
     "text": [
      "0       44871300\n",
      "1       22942800\n",
      "2       18342800\n",
      "3       15319700\n",
      "4        9232100\n",
      "          ...   \n",
      "3927     3571700\n",
      "3928     3208500\n",
      "3929     2574100\n",
      "3930     2486400\n",
      "3931     2343100\n",
      "Name: Volume, Length: 3932, dtype: int64\n",
      "<class 'pandas.core.series.Series'>\n"
     ]
    }
   ],
   "source": [
    "# Create a series for the volume column\n",
    "volume_data = df['Volume']\n",
    "print(volume_data)\n",
    "print(type(volume_data))"
   ]
  },
  {
   "cell_type": "code",
   "execution_count": 17,
   "id": "859520df-8ee0-458f-b0bc-c3c8b54c60f9",
   "metadata": {},
   "outputs": [
    {
     "name": "stdout",
     "output_type": "stream",
     "text": [
      "The average daily trading volume of Google is 7012621.52\n"
     ]
    }
   ],
   "source": [
    "average_vol = np.mean(volume_data)\n",
    "print(f\"The average daily trading volume of Google is {average_vol:.2f}\")"
   ]
  },
  {
   "cell_type": "markdown",
   "id": "50dab8fb-1f33-4b2c-a99e-7cf0705b3847",
   "metadata": {},
   "source": [
    "## 2. The overall trend of Google's closing price over time"
   ]
  },
  {
   "cell_type": "code",
   "execution_count": 19,
   "id": "51e5b452-d90a-49de-8326-c3ed789fd238",
   "metadata": {},
   "outputs": [
    {
     "name": "stdout",
     "output_type": "stream",
     "text": [
      "[2004 2005 2006 2007 2008 2009 2010 2011 2012 2013 2014 2015 2016 2017\n",
      " 2018 2019 2020]\n"
     ]
    }
   ],
   "source": [
    "# Plotting trend as Time Series\n",
    "# Convert date column to datetime object\n",
    "df['Date'] = pd.to_datetime(df['Date'])\n",
    "# Get unique year values\n",
    "years = df['Date'].dt.year.unique()\n",
    "print(years)"
   ]
  },
  {
   "cell_type": "code",
   "execution_count": 20,
   "id": "b8b3ae58-403b-4e2b-b31c-a809ae2983e6",
   "metadata": {},
   "outputs": [
    {
     "name": "stdout",
     "output_type": "stream",
     "text": [
      "Date\n",
      "2004      75.617206\n",
      "2005     138.360933\n",
      "2006     204.824916\n",
      "2007     268.369305\n",
      "2008     231.558071\n",
      "2009     219.023214\n",
      "2010     266.811472\n",
      "2011     283.424738\n",
      "2012     320.208021\n",
      "2013     440.470378\n",
      "2014     559.803290\n",
      "2015     602.005681\n",
      "2016     743.486707\n",
      "2017     921.780837\n",
      "2018    1113.225134\n",
      "2019    1188.393057\n",
      "2020    1352.986028\n",
      "Name: Close, dtype: float64\n"
     ]
    }
   ],
   "source": [
    "# Group the average close values by the years\n",
    "closing_highs = df.groupby(df['Date'].dt.year)['Close'].mean()\n",
    "print(closing_highs)"
   ]
  },
  {
   "cell_type": "code",
   "execution_count": 21,
   "id": "ffcac78e-10ca-4e32-b329-6b8f76879cc5",
   "metadata": {},
   "outputs": [
    {
     "data": {
      "image/png": "[encoded data removed]",
      "text/plain": [
       "<Figure size 640x480 with 1 Axes>"
      ]
     },
     "metadata": {},
     "output_type": "display_data"
    }
   ],
   "source": [
    "# Plot with the years using time series manipulation\n",
    "x = years\n",
    "y = closing_highs\n",
    "# plt.figure(figsize=(10,6))\n",
    "plt.plot(x,y)\n",
    "plt.xlabel(\"Year\")\n",
    "plt.ylabel(\"Closing Price\")\n",
    "plt.title(\"Yearly Trend of Average Closing Prices\")\n",
    "plt.show()"
   ]
  },
  {
   "cell_type": "markdown",
   "id": "4fa7fc3f-7ddf-430c-92fb-0dd9b3d74e53",
   "metadata": {},
   "source": [
    "## 3. How volatile has the stock been over the last recorded year?"
   ]
  },
  {
   "cell_type": "code",
   "execution_count": 23,
   "id": "f3d929cf-cdba-47fb-94cc-842f36e3ba4d",
   "metadata": {},
   "outputs": [
    {
     "name": "stdout",
     "output_type": "stream",
     "text": [
      "147.34178990025367\n"
     ]
    }
   ],
   "source": [
    "# Isolate close column where year is 2020\n",
    "close2020 = df[df['Date'].dt.year == 2020]['Close']\n",
    "# Calculate standard deviation using numpy\n",
    "std_close2020 = np.std(close2020)\n",
    "print(std_close2020)"
   ]
  },
  {
   "cell_type": "markdown",
   "id": "05615410-0501-40f1-b850-2dbb2c55eed4",
   "metadata": {},
   "source": [
    "For pandas to performed the same as numpy, you can pass in the ddof=0 parameter, so df.std(ddof=0)."
   ]
  },
  {
   "cell_type": "code",
   "execution_count": 25,
   "id": "5eac9d11-adf9-4a4a-a8b0-15d0307bb576",
   "metadata": {},
   "outputs": [
    {
     "name": "stdout",
     "output_type": "stream",
     "text": [
      "Date\n",
      "2004     16.158638\n",
      "2005     38.039705\n",
      "2006     21.033527\n",
      "2007     41.081265\n",
      "2008     49.921679\n",
      "2009     44.357210\n",
      "2010     25.086220\n",
      "2011     21.299588\n",
      "2012     26.314019\n",
      "2013     49.081615\n",
      "2014     25.845099\n",
      "2015     81.563429\n",
      "2016     34.387325\n",
      "2017     77.078558\n",
      "2018     67.181320\n",
      "2019     81.602989\n",
      "2020    147.341790\n",
      "Name: Close, dtype: float64\n"
     ]
    }
   ],
   "source": [
    "# The standard deviation of the closing prices for all years\n",
    "closing_std = df.groupby(df['Date'].dt.year)['Close'].std(ddof=0)\n",
    "print(closing_std)"
   ]
  },
  {
   "cell_type": "markdown",
   "id": "f3c33c55-aec3-4bc8-ba65-0054890a9af0",
   "metadata": {},
   "source": [
    "The value of 147 as a standard deviation suggests that data points in this dataset typically vary by ±147 units from the mean. The larger this number, the more spread out the data is."
   ]
  },
  {
   "cell_type": "markdown",
   "id": "11c7a9e8-2625-4bad-b169-b97729db47e2",
   "metadata": {},
   "source": [
    "## 4. Which stocks had the highest and lowest daily returns over the dataset’s time period?"
   ]
  },
  {
   "cell_type": "markdown",
   "id": "5aaaa80b-7dec-4563-9778-b214a1585da7",
   "metadata": {},
   "source": [
    "daily returns = (today's close - yesterday's close)/yestarday's close"
   ]
  },
  {
   "cell_type": "code",
   "execution_count": 29,
   "id": "4df4896f-a14d-410e-b02d-a3702eda87f5",
   "metadata": {},
   "outputs": [
    {
     "name": "stdout",
     "output_type": "stream",
     "text": [
      "The highest daily return was 19.99%\n",
      "The lowest daily return was -11.61%\n"
     ]
    }
   ],
   "source": [
    "# Get yesterday's closing\n",
    "df['today_close'] = df['Close']\n",
    "df['yest_close'] = df['Close'].shift(1)\n",
    "\n",
    "# Calculate the daily returns \n",
    "df['daily_return'] = (df['today_close'] - df['yest_close']) / df['yest_close']\n",
    "# print(df['daily_return'])\n",
    "\n",
    "# Find the day with the max value\n",
    "print(f\"The highest daily return was {(df['daily_return'].max()*100):.2f}%\")\n",
    "# Find the day with the min value\n",
    "print(f\"The lowest daily return was {(df['daily_return'].min()*100):.2f}%\")"
   ]
  },
  {
   "cell_type": "code",
   "execution_count": 30,
   "id": "560f5eac-78a9-47d8-bdf3-4d66f91287d9",
   "metadata": {},
   "outputs": [
    {
     "name": "stdout",
     "output_type": "stream",
     "text": [
      "922   2008-04-18\n",
      "Name: Date, dtype: datetime64[ns]\n",
      "1035   2008-09-29\n",
      "Name: Date, dtype: datetime64[ns]\n"
     ]
    }
   ],
   "source": [
    "# Find the days with highest and lowest return\n",
    "max_day = df.loc[df['daily_return'] == df['daily_return'].max()]['Date']\n",
    "min_day = df.loc[df['daily_return'] == df['daily_return'].min()]['Date']\n",
    "print(max_day) \n",
    "print(min_day)"
   ]
  },
  {
   "cell_type": "markdown",
   "id": "160df9c4-3d25-476a-a0f8-908117728a2c",
   "metadata": {},
   "source": [
    "## 5.Did the stock experience a “crash” (a drop of 10% or more) in a single day? If so, list the dates this occurred."
   ]
  },
  {
   "cell_type": "code",
   "execution_count": 32,
   "id": "a0ec681f-2500-4b73-93d2-570ddaa9b5d3",
   "metadata": {},
   "outputs": [
    {
     "name": "stdout",
     "output_type": "stream",
     "text": [
      "The were 10 days where the stock experienced a crash. These days were:\n",
      "2004-10-22 00:00:00\n",
      "2005-10-21 00:00:00\n",
      "2008-04-18 00:00:00\n",
      "2008-10-13 00:00:00\n",
      "2008-10-28 00:00:00\n",
      "2010-10-15 00:00:00\n",
      "2011-07-15 00:00:00\n",
      "2013-10-18 00:00:00\n",
      "2015-07-17 00:00:00\n",
      "2019-07-26 00:00:00\n"
     ]
    }
   ],
   "source": [
    "the_days = df[df['daily_return']>=0.1]['Date']\n",
    "days_amount = df[df['daily_return']>=0.1]['Date'].count()\n",
    "crash_days = df[df['daily_return']>=0.1]['Date']   # add .tolist() if you want to convert to list form\n",
    "df[df['daily_return']>=0.1]\n",
    "print(f\"The were {days_amount} days where the stock experienced a crash. These days were:\")\n",
    "for day in the_days:\n",
    "    print(day)"
   ]
  },
  {
   "cell_type": "code",
   "execution_count": 33,
   "id": "b9d21899-c008-4f87-b80a-6e3621624e35",
   "metadata": {},
   "outputs": [
    {
     "name": "stdout",
     "output_type": "stream",
     "text": [
      "There are 3932 rows\n",
      "There are 10 rows where the stock crashed, 3921 where the stock didn't crash and 1 row missing due to a null value.\n"
     ]
    }
   ],
   "source": [
    "# Checking all the values add to all the rows using non-null column\n",
    "print(\"There are \" + str(df.shape[0]) + \" rows\")\n",
    "non_crash = df[df['daily_return']<=0.1]['Date'].count()\n",
    "null_rows = df[df['daily_return'].isna()]['Date'].count()\n",
    "print(f\"There are {crash_days.count()} rows where the stock crashed, {non_crash} where the stock didn't crash and {null_rows} row missing due to a null value.\")"
   ]
  }
 ],
 "metadata": {
  "kernelspec": {
   "display_name": "Python 3 (ipykernel)",
   "language": "python",
   "name": "python3"
  },
  "language_info": {
   "codemirror_mode": {
    "name": "ipython",
    "version": 3
   },
   "file_extension": ".py",
   "mimetype": "text/x-python",
   "name": "python",
   "nbconvert_exporter": "python",
   "pygments_lexer": "ipython3",
   "version": "3.12.7"
  }
 },
 "nbformat": 4,
 "nbformat_minor": 5
}
